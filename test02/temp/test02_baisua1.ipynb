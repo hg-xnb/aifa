{
 "cells": [
  {
   "cell_type": "code",
   "execution_count": 1,
   "metadata": {},
   "outputs": [],
   "source": [
    "path_file_cvs = \"./bank-full.csv\""
   ]
  },
  {
   "cell_type": "code",
   "execution_count": 5,
   "metadata": {},
   "outputs": [],
   "source": [
    "\"\"\"\n",
    "Why pd (data frame)?\n",
    "- `numpy` missing label for row and col! --> pd\n",
    "- pd is proccessed based on `label`\n",
    "\"\"\"\n",
    "import pandas as pd \n",
    "dataframe = pd.read_csv(filepath_or_buffer=path_file_cvs, sep=';')"
   ]
  },
  {
   "cell_type": "code",
   "execution_count": null,
   "metadata": {},
   "outputs": [],
   "source": [
    "\"\"\"\n",
    "## The feild contains `unknown` value, that call `missing`\n",
    "## After load dataframe, `unknown` must be processed 1st\n",
    "## test-dataset already defined! (10%). Due to same condition make easier to evaluate the model!\n",
    "\"\"\"\n",
    "target_col = 'y'\n",
    "dataframe[ target_col ] = dataframe[ target_col ].map('yes':1, 'no':0)\n",
    "\n",
    "splitter = "
   ]
  },
  {
   "cell_type": "code",
   "execution_count": null,
   "metadata": {},
   "outputs": [],
   "source": []
  },
  {
   "cell_type": "code",
   "execution_count": null,
   "metadata": {},
   "outputs": [],
   "source": []
  },
  {
   "cell_type": "code",
   "execution_count": null,
   "metadata": {},
   "outputs": [],
   "source": []
  },
  {
   "cell_type": "code",
   "execution_count": null,
   "metadata": {},
   "outputs": [],
   "source": []
  }
 ],
 "metadata": {
  "kernelspec": {
   "display_name": "spyder-env",
   "language": "python",
   "name": "python3"
  },
  "language_info": {
   "codemirror_mode": {
    "name": "ipython",
    "version": 3
   },
   "file_extension": ".py",
   "mimetype": "text/x-python",
   "name": "python",
   "nbconvert_exporter": "python",
   "pygments_lexer": "ipython3",
   "version": "3.12.8"
  }
 },
 "nbformat": 4,
 "nbformat_minor": 2
}
