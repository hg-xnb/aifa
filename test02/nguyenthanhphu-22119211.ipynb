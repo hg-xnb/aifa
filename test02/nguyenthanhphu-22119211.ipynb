{
 "cells": [
  {
   "cell_type": "code",
   "execution_count": 1,
   "metadata": {},
   "outputs": [
    {
     "name": "stdout",
     "output_type": "stream",
     "text": [
      "Requirement already satisfied: ucimlrepo in /home/ngxxfus/miniforge3/envs/spyder-env/lib/python3.12/site-packages (0.0.7)\n",
      "Requirement already satisfied: pandas>=1.0.0 in /home/ngxxfus/miniforge3/envs/spyder-env/lib/python3.12/site-packages (from ucimlrepo) (2.2.3)\n",
      "Requirement already satisfied: certifi>=2020.12.5 in /home/ngxxfus/miniforge3/envs/spyder-env/lib/python3.12/site-packages (from ucimlrepo) (2025.1.31)\n",
      "Requirement already satisfied: numpy>=1.26.0 in /home/ngxxfus/miniforge3/envs/spyder-env/lib/python3.12/site-packages (from pandas>=1.0.0->ucimlrepo) (2.2.1)\n",
      "Requirement already satisfied: python-dateutil>=2.8.2 in /home/ngxxfus/miniforge3/envs/spyder-env/lib/python3.12/site-packages (from pandas>=1.0.0->ucimlrepo) (2.9.0.post0)\n",
      "Requirement already satisfied: pytz>=2020.1 in /home/ngxxfus/miniforge3/envs/spyder-env/lib/python3.12/site-packages (from pandas>=1.0.0->ucimlrepo) (2024.1)\n",
      "Requirement already satisfied: tzdata>=2022.7 in /home/ngxxfus/miniforge3/envs/spyder-env/lib/python3.12/site-packages (from pandas>=1.0.0->ucimlrepo) (2024.2)\n",
      "Requirement already satisfied: six>=1.5 in /home/ngxxfus/miniforge3/envs/spyder-env/lib/python3.12/site-packages (from python-dateutil>=2.8.2->pandas>=1.0.0->ucimlrepo) (1.17.0)\n"
     ]
    }
   ],
   "source": [
    "!pip install ucimlrepo"
   ]
  },
  {
   "cell_type": "code",
   "execution_count": 2,
   "metadata": {},
   "outputs": [],
   "source": [
    "from ucimlrepo import fetch_ucirepo \n",
    "bank_marketing = fetch_ucirepo(id=222) "
   ]
  },
  {
   "cell_type": "code",
   "execution_count": 3,
   "metadata": {},
   "outputs": [
    {
     "name": "stdout",
     "output_type": "stream",
     "text": [
      "{'uci_id': 222, 'name': 'Bank Marketing', 'repository_url': 'https://archive.ics.uci.edu/dataset/222/bank+marketing', 'data_url': 'https://archive.ics.uci.edu/static/public/222/data.csv', 'abstract': 'The data is related with direct marketing campaigns (phone calls) of a Portuguese banking institution. The classification goal is to predict if the client will subscribe a term deposit (variable y).', 'area': 'Business', 'tasks': ['Classification'], 'characteristics': ['Multivariate'], 'num_instances': 45211, 'num_features': 16, 'feature_types': ['Categorical', 'Integer'], 'demographics': ['Age', 'Occupation', 'Marital Status', 'Education Level'], 'target_col': ['y'], 'index_col': None, 'has_missing_values': 'yes', 'missing_values_symbol': 'NaN', 'year_of_dataset_creation': 2014, 'last_updated': 'Fri Aug 18 2023', 'dataset_doi': '10.24432/C5K306', 'creators': ['S. Moro', 'P. Rita', 'P. Cortez'], 'intro_paper': {'ID': 277, 'type': 'NATIVE', 'title': 'A data-driven approach to predict the success of bank telemarketing', 'authors': 'Sérgio Moro, P. Cortez, P. Rita', 'venue': 'Decision Support Systems', 'year': 2014, 'journal': None, 'DOI': '10.1016/j.dss.2014.03.001', 'URL': 'https://www.semanticscholar.org/paper/cab86052882d126d43f72108c6cb41b295cc8a9e', 'sha': None, 'corpus': None, 'arxiv': None, 'mag': None, 'acl': None, 'pmid': None, 'pmcid': None}, 'additional_info': {'summary': \"The data is related with direct marketing campaigns of a Portuguese banking institution. The marketing campaigns were based on phone calls. Often, more than one contact to the same client was required, in order to access if the product (bank term deposit) would be ('yes') or not ('no') subscribed. \\n\\nThere are four datasets: \\n1) bank-additional-full.csv with all examples (41188) and 20 inputs, ordered by date (from May 2008 to November 2010), very close to the data analyzed in [Moro et al., 2014]\\n2) bank-additional.csv with 10% of the examples (4119), randomly selected from 1), and 20 inputs.\\n3) bank-full.csv with all examples and 17 inputs, ordered by date (older version of this dataset with less inputs). \\n4) bank.csv with 10% of the examples and 17 inputs, randomly selected from 3 (older version of this dataset with less inputs). \\nThe smallest datasets are provided to test more computationally demanding machine learning algorithms (e.g., SVM). \\n\\nThe classification goal is to predict if the client will subscribe (yes/no) a term deposit (variable y).\", 'purpose': None, 'funded_by': None, 'instances_represent': None, 'recommended_data_splits': None, 'sensitive_data': None, 'preprocessing_description': None, 'variable_info': 'Input variables:\\n   # bank client data:\\n   1 - age (numeric)\\n   2 - job : type of job (categorical: \"admin.\",\"unknown\",\"unemployed\",\"management\",\"housemaid\",\"entrepreneur\",\"student\",\\n                                       \"blue-collar\",\"self-employed\",\"retired\",\"technician\",\"services\") \\n   3 - marital : marital status (categorical: \"married\",\"divorced\",\"single\"; note: \"divorced\" means divorced or widowed)\\n   4 - education (categorical: \"unknown\",\"secondary\",\"primary\",\"tertiary\")\\n   5 - default: has credit in default? (binary: \"yes\",\"no\")\\n   6 - balance: average yearly balance, in euros (numeric) \\n   7 - housing: has housing loan? (binary: \"yes\",\"no\")\\n   8 - loan: has personal loan? (binary: \"yes\",\"no\")\\n   # related with the last contact of the current campaign:\\n   9 - contact: contact communication type (categorical: \"unknown\",\"telephone\",\"cellular\") \\n  10 - day: last contact day of the month (numeric)\\n  11 - month: last contact month of year (categorical: \"jan\", \"feb\", \"mar\", ..., \"nov\", \"dec\")\\n  12 - duration: last contact duration, in seconds (numeric)\\n   # other attributes:\\n  13 - campaign: number of contacts performed during this campaign and for this client (numeric, includes last contact)\\n  14 - pdays: number of days that passed by after the client was last contacted from a previous campaign (numeric, -1 means client was not previously contacted)\\n  15 - previous: number of contacts performed before this campaign and for this client (numeric)\\n  16 - poutcome: outcome of the previous marketing campaign (categorical: \"unknown\",\"other\",\"failure\",\"success\")\\n\\n  Output variable (desired target):\\n  17 - y - has the client subscribed a term deposit? (binary: \"yes\",\"no\")\\n', 'citation': None}}\n",
      "           name     role         type      demographic  \\\n",
      "0           age  Feature      Integer              Age   \n",
      "1           job  Feature  Categorical       Occupation   \n",
      "2       marital  Feature  Categorical   Marital Status   \n",
      "3     education  Feature  Categorical  Education Level   \n",
      "4       default  Feature       Binary             None   \n",
      "5       balance  Feature      Integer             None   \n",
      "6       housing  Feature       Binary             None   \n",
      "7          loan  Feature       Binary             None   \n",
      "8       contact  Feature  Categorical             None   \n",
      "9   day_of_week  Feature         Date             None   \n",
      "10        month  Feature         Date             None   \n",
      "11     duration  Feature      Integer             None   \n",
      "12     campaign  Feature      Integer             None   \n",
      "13        pdays  Feature      Integer             None   \n",
      "14     previous  Feature      Integer             None   \n",
      "15     poutcome  Feature  Categorical             None   \n",
      "16            y   Target       Binary             None   \n",
      "\n",
      "                                          description  units missing_values  \n",
      "0                                                None   None             no  \n",
      "1   type of job (categorical: 'admin.','blue-colla...   None             no  \n",
      "2   marital status (categorical: 'divorced','marri...   None             no  \n",
      "3   (categorical: 'basic.4y','basic.6y','basic.9y'...   None             no  \n",
      "4                              has credit in default?   None             no  \n",
      "5                              average yearly balance  euros             no  \n",
      "6                                   has housing loan?   None             no  \n",
      "7                                  has personal loan?   None             no  \n",
      "8   contact communication type (categorical: 'cell...   None            yes  \n",
      "9                        last contact day of the week   None             no  \n",
      "10  last contact month of year (categorical: 'jan'...   None             no  \n",
      "11   last contact duration, in seconds (numeric). ...   None             no  \n",
      "12  number of contacts performed during this campa...   None             no  \n",
      "13  number of days that passed by after the client...   None            yes  \n",
      "14  number of contacts performed before this campa...   None             no  \n",
      "15  outcome of the previous marketing campaign (ca...   None            yes  \n",
      "16          has the client subscribed a term deposit?   None             no  \n"
     ]
    }
   ],
   "source": [
    "# metadata \n",
    "print(bank_marketing.metadata) \n",
    "\n",
    "# variable information \n",
    "print(bank_marketing.variables) "
   ]
  },
  {
   "cell_type": "code",
   "execution_count": 4,
   "metadata": {},
   "outputs": [],
   "source": [
    "import pandas as pd\n",
    "from sklearn.preprocessing import LabelEncoder\n",
    "df = pd.DataFrame(bank_marketing.data.features)\n",
    "df['Y'] = bank_marketing.data.targets"
   ]
  },
  {
   "cell_type": "code",
   "execution_count": 5,
   "metadata": {},
   "outputs": [],
   "source": [
    "selected_features = [\"job\", \"marital\", \"loan\", \"default\", \"previous\", \"campaign\", \"Y\"]\n",
    "df = df[selected_features]"
   ]
  },
  {
   "cell_type": "code",
   "execution_count": 6,
   "metadata": {},
   "outputs": [
    {
     "data": {
      "text/html": [
       "<div>\n",
       "<style scoped>\n",
       "    .dataframe tbody tr th:only-of-type {\n",
       "        vertical-align: middle;\n",
       "    }\n",
       "\n",
       "    .dataframe tbody tr th {\n",
       "        vertical-align: top;\n",
       "    }\n",
       "\n",
       "    .dataframe thead th {\n",
       "        text-align: right;\n",
       "    }\n",
       "</style>\n",
       "<table border=\"1\" class=\"dataframe\">\n",
       "  <thead>\n",
       "    <tr style=\"text-align: right;\">\n",
       "      <th></th>\n",
       "      <th>job</th>\n",
       "      <th>marital</th>\n",
       "      <th>loan</th>\n",
       "      <th>default</th>\n",
       "      <th>previous</th>\n",
       "      <th>campaign</th>\n",
       "      <th>Y</th>\n",
       "    </tr>\n",
       "  </thead>\n",
       "  <tbody>\n",
       "    <tr>\n",
       "      <th>0</th>\n",
       "      <td>management</td>\n",
       "      <td>married</td>\n",
       "      <td>no</td>\n",
       "      <td>no</td>\n",
       "      <td>0</td>\n",
       "      <td>1</td>\n",
       "      <td>no</td>\n",
       "    </tr>\n",
       "    <tr>\n",
       "      <th>1</th>\n",
       "      <td>technician</td>\n",
       "      <td>single</td>\n",
       "      <td>no</td>\n",
       "      <td>no</td>\n",
       "      <td>0</td>\n",
       "      <td>1</td>\n",
       "      <td>no</td>\n",
       "    </tr>\n",
       "    <tr>\n",
       "      <th>2</th>\n",
       "      <td>entrepreneur</td>\n",
       "      <td>married</td>\n",
       "      <td>yes</td>\n",
       "      <td>no</td>\n",
       "      <td>0</td>\n",
       "      <td>1</td>\n",
       "      <td>no</td>\n",
       "    </tr>\n",
       "    <tr>\n",
       "      <th>3</th>\n",
       "      <td>blue-collar</td>\n",
       "      <td>married</td>\n",
       "      <td>no</td>\n",
       "      <td>no</td>\n",
       "      <td>0</td>\n",
       "      <td>1</td>\n",
       "      <td>no</td>\n",
       "    </tr>\n",
       "    <tr>\n",
       "      <th>4</th>\n",
       "      <td>NaN</td>\n",
       "      <td>single</td>\n",
       "      <td>no</td>\n",
       "      <td>no</td>\n",
       "      <td>0</td>\n",
       "      <td>1</td>\n",
       "      <td>no</td>\n",
       "    </tr>\n",
       "  </tbody>\n",
       "</table>\n",
       "</div>"
      ],
      "text/plain": [
       "            job  marital loan default  previous  campaign   Y\n",
       "0    management  married   no      no         0         1  no\n",
       "1    technician   single   no      no         0         1  no\n",
       "2  entrepreneur  married  yes      no         0         1  no\n",
       "3   blue-collar  married   no      no         0         1  no\n",
       "4           NaN   single   no      no         0         1  no"
      ]
     },
     "execution_count": 6,
     "metadata": {},
     "output_type": "execute_result"
    }
   ],
   "source": [
    "df.head()"
   ]
  },
  {
   "cell_type": "code",
   "execution_count": null,
   "metadata": {},
   "outputs": [
    {
     "name": "stdout",
     "output_type": "stream",
     "text": [
      "Processing `job` \t\tcolumn \t\t/ `object`...\n",
      ">> le.fit_transform(df[col])=[4 9 2 ... 5 1 2]\n",
      "Processing `marital` \t\tcolumn \t\t/ `object`...\n",
      ">> le.fit_transform(df[col])=[1 2 1 ... 1 1 1]\n",
      "Processing `loan` \t\tcolumn \t\t/ `object`...\n",
      ">> le.fit_transform(df[col])=[0 0 1 ... 0 0 0]\n",
      "Processing `default` \t\tcolumn \t\t/ `object`...\n",
      ">> le.fit_transform(df[col])=[0 0 0 ... 0 0 0]\n",
      "Processing `previous` \t\tcolumn \t\t/ `int64`...\n",
      "Processing `campaign` \t\tcolumn \t\t/ `int64`...\n",
      "Processing `Y` \t\tcolumn \t\t/ `object`...\n",
      ">> le.fit_transform(df[col])=[0 0 0 ... 1 0 0]\n"
     ]
    }
   ],
   "source": [
    "label_encoders = {}\n",
    "for col in df.columns:\n",
    "    print(f\"Processing `{col}` \\t\\tcolumn \\t\\t/ `{df[col].dtype}`...\")\n",
    "    if df[col].dtype == 'object':  # Nếu cột có kiểu dữ liệu là object (categorical)\n",
    "        le = LabelEncoder()\n",
    "        df[col] = le.fit_transform(df[col])\n",
    "        print(f\">> le.fit_transform(df[col])={le.fit_transform(df[col])}\")\n",
    "        label_encoders[col] = le  # Lưu lại encoder để dùng sau (nếu cần)"
   ]
  },
  {
   "cell_type": "code",
   "execution_count": 8,
   "metadata": {},
   "outputs": [
    {
     "name": "stdout",
     "output_type": "stream",
     "text": [
      "df:\n",
      "        job  marital  loan  default  previous  campaign  Y\n",
      "0        4        1     0        0         0         1  0\n",
      "1        9        2     0        0         0         1  0\n",
      "2        2        1     1        0         0         1  0\n",
      "3        1        1     0        0         0         1  0\n",
      "4       11        2     0        0         0         1  0\n",
      "...    ...      ...   ...      ...       ...       ... ..\n",
      "45206    9        1     0        0         0         3  1\n",
      "45207    5        0     0        0         0         2  1\n",
      "45208    5        1     0        0         3         5  1\n",
      "45209    1        1     0        0         0         4  0\n",
      "45210    2        1     0        0        11         2  0\n",
      "\n",
      "[45211 rows x 7 columns]\n"
     ]
    }
   ],
   "source": [
    "print(\"df:\\n\", df)\n"
   ]
  },
  {
   "cell_type": "code",
   "execution_count": 9,
   "metadata": {},
   "outputs": [],
   "source": [
    "from sklearn.model_selection import train_test_split\n",
    "X = df.drop(columns=['Y'])\n",
    "Y = df['Y']\n",
    "X_trainval, X_testval, y_trainval, y_testval = train_test_split(X, Y, test_size=0.1, random_state=42)"
   ]
  },
  {
   "cell_type": "code",
   "execution_count": 10,
   "metadata": {},
   "outputs": [
    {
     "name": "stdout",
     "output_type": "stream",
     "text": [
      "X_trainval:\n",
      "        job  marital  loan  default  previous  campaign\n",
      "14565    3        1     0        0         0         3\n",
      "20546    4        0     0        0         0         2\n",
      "34495    1        1     0        0         0         1\n",
      "13814    7        1     0        0         0         1\n",
      "42153    4        1     0        0         2         1\n",
      "...    ...      ...   ...      ...       ...       ...\n",
      "11284    3        2     0        0         0         1\n",
      "44732    8        2     0        0         1         1\n",
      "38158    9        0     0        0         0         1\n",
      "860      5        1     0        0         0         1\n",
      "15795    1        1     0        0         0        10\n",
      "\n",
      "[40689 rows x 6 columns]\n",
      "X_testval:\n",
      "        job  marital  loan  default  previous  campaign\n",
      "3776     1        1     0        0         0         1\n",
      "9928     7        2     0        0         0         2\n",
      "33409    8        2     0        0         0         1\n",
      "31885    4        1     0        0         1         1\n",
      "15738    4        1     1        0         0         2\n",
      "...    ...      ...   ...      ...       ...       ...\n",
      "41278    4        1     0        0         4         6\n",
      "6808     9        1     0        0         0         1\n",
      "12358    0        1     1        0         0         3\n",
      "43590    6        1     0        0         1         3\n",
      "28079    0        0     0        0         0         2\n",
      "\n",
      "[4522 rows x 6 columns]\n",
      "y_trainval:\n",
      " 14565    0\n",
      "20546    0\n",
      "34495    0\n",
      "13814    0\n",
      "42153    1\n",
      "        ..\n",
      "11284    1\n",
      "44732    0\n",
      "38158    0\n",
      "860      0\n",
      "15795    0\n",
      "Name: Y, Length: 40689, dtype: int64\n",
      "y_testval:\n",
      " 3776     0\n",
      "9928     0\n",
      "33409    0\n",
      "31885    0\n",
      "15738    0\n",
      "        ..\n",
      "41278    1\n",
      "6808     0\n",
      "12358    0\n",
      "43590    1\n",
      "28079    0\n",
      "Name: Y, Length: 4522, dtype: int64\n"
     ]
    }
   ],
   "source": [
    "print(\"X_trainval:\\n\", X_trainval)\n",
    "print(\"X_testval:\\n\", X_testval)\n",
    "print(\"y_trainval:\\n\", y_trainval)\n",
    "print(\"y_testval:\\n\", y_testval)"
   ]
  },
  {
   "cell_type": "code",
   "execution_count": 11,
   "metadata": {},
   "outputs": [
    {
     "name": "stdout",
     "output_type": "stream",
     "text": [
      "X_trainval shape: (40689, 6)\n",
      "X_testval shape: (4522, 6)\n",
      "y_trainval shape: (40689,)\n",
      "y_testval shape: (4522,)\n"
     ]
    }
   ],
   "source": [
    "print(f\"X_trainval shape: {X_trainval.shape}\")\n",
    "print(f\"X_testval shape: {X_testval.shape}\")\n",
    "print(f\"y_trainval shape: {y_trainval.shape}\")\n",
    "print(f\"y_testval shape: {y_testval.shape}\")"
   ]
  },
  {
   "cell_type": "code",
   "execution_count": 12,
   "metadata": {},
   "outputs": [],
   "source": [
    "from sklearn.preprocessing import StandardScaler\n",
    "\n",
    "scaler = StandardScaler()\n",
    "X_trainval = scaler.fit_transform(X_trainval)\n",
    "X_testval = scaler.fit_transform(X_testval)"
   ]
  },
  {
   "cell_type": "code",
   "execution_count": 13,
   "metadata": {},
   "outputs": [
    {
     "name": "stdout",
     "output_type": "stream",
     "text": [
      "X_trainval:\n",
      " [[-0.4107439  -0.27640684 -0.43798147 -0.13703517 -0.249556    0.07606371]\n",
      " [-0.10494626 -1.92258923 -0.43798147 -0.13703517 -0.249556   -0.24488996]\n",
      " [-1.02233917 -0.27640684 -0.43798147 -0.13703517 -0.249556   -0.56584362]\n",
      " ...\n",
      " [ 1.42404194 -1.92258923 -0.43798147 -0.13703517 -0.249556   -0.56584362]\n",
      " [ 0.20085138 -0.27640684 -0.43798147 -0.13703517 -0.249556   -0.56584362]\n",
      " [-1.02233917 -0.27640684 -0.43798147 -0.13703517 -0.249556    2.32273935]]\n",
      "X_testval:\n",
      " [[-1.00431118 -0.27004835 -0.42615067 -0.12076341 -0.27441343 -0.6038018 ]\n",
      " [ 0.81677891  1.35599512 -0.42615067 -0.12076341 -0.27441343 -0.26292892]\n",
      " [ 1.12029392  1.35599512 -0.42615067 -0.12076341 -0.27441343 -0.6038018 ]\n",
      " ...\n",
      " [-1.3078262  -0.27004835  2.34658791 -0.12076341 -0.27441343  0.07794395]\n",
      " [ 0.51326389 -0.27004835 -0.42615067 -0.12076341  0.17486157  0.07794395]\n",
      " [-1.3078262  -1.89609182 -0.42615067 -0.12076341 -0.27441343 -0.26292892]]\n",
      "y_trainval:\n",
      " 14565    0\n",
      "20546    0\n",
      "34495    0\n",
      "13814    0\n",
      "42153    1\n",
      "        ..\n",
      "11284    1\n",
      "44732    0\n",
      "38158    0\n",
      "860      0\n",
      "15795    0\n",
      "Name: Y, Length: 40689, dtype: int64\n",
      "y_testval:\n",
      " 3776     0\n",
      "9928     0\n",
      "33409    0\n",
      "31885    0\n",
      "15738    0\n",
      "        ..\n",
      "41278    1\n",
      "6808     0\n",
      "12358    0\n",
      "43590    1\n",
      "28079    0\n",
      "Name: Y, Length: 4522, dtype: int64\n"
     ]
    }
   ],
   "source": [
    "print(\"X_trainval:\\n\", X_trainval)\n",
    "print(\"X_testval:\\n\", X_testval)\n",
    "print(\"y_trainval:\\n\", y_trainval)\n",
    "print(\"y_testval:\\n\", y_testval)"
   ]
  },
  {
   "cell_type": "code",
   "execution_count": 14,
   "metadata": {},
   "outputs": [
    {
     "name": "stdout",
     "output_type": "stream",
     "text": [
      "Best Parameters: {'max_depth': 10, 'min_samples_leaf': 2, 'min_samples_split': 2, 'n_estimators': 50}\n",
      "Accuracy: 0.8777\n",
      "Classification Report:\n",
      "               precision    recall  f1-score   support\n",
      "\n",
      "           0       0.88      1.00      0.93      3968\n",
      "           1       1.00      0.00      0.00       554\n",
      "\n",
      "    accuracy                           0.88      4522\n",
      "   macro avg       0.94      0.50      0.47      4522\n",
      "weighted avg       0.89      0.88      0.82      4522\n",
      "\n"
     ]
    }
   ],
   "source": [
    "\n",
    "from sklearn.model_selection import GridSearchCV\n",
    "from sklearn.ensemble import RandomForestClassifier\n",
    "from sklearn.metrics import accuracy_score, classification_report\n",
    "\n",
    "param_grid = {\n",
    "    'n_estimators': [50, 100, 200],        \n",
    "    'max_depth': [10, 20, None],           \n",
    "    'min_samples_split': [2, 5, 10],      \n",
    "    'min_samples_leaf': [1, 2, 4]         \n",
    "}\n",
    "\n",
    "clf = RandomForestClassifier(random_state=42)\n",
    "grid_search = GridSearchCV(clf, param_grid, cv=5, scoring='accuracy', n_jobs=-1)\n",
    "grid_search.fit(X_trainval, y_trainval)\n",
    "\n",
    "best_model = grid_search.best_estimator_\n",
    "y_pred = best_model.predict(X_testval)\n",
    "\n",
    "accuracy = accuracy_score(y_testval, y_pred)\n",
    "report = classification_report(y_testval, y_pred)\n",
    "\n",
    "print(f\"Best Parameters: {grid_search.best_params_}\")\n",
    "print(f\"Accuracy: {accuracy:.4f}\")\n",
    "print(\"Classification Report:\\n\", report)\n"
   ]
  }
 ],
 "metadata": {
  "kernelspec": {
   "display_name": "spyder-env",
   "language": "python",
   "name": "python3"
  },
  "language_info": {
   "codemirror_mode": {
    "name": "ipython",
    "version": 3
   },
   "file_extension": ".py",
   "mimetype": "text/x-python",
   "name": "python",
   "nbconvert_exporter": "python",
   "pygments_lexer": "ipython3",
   "version": "3.12.8"
  }
 },
 "nbformat": 4,
 "nbformat_minor": 2
}
