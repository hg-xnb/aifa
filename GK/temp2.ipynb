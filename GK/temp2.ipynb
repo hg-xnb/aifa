{
 "cells": [
  {
   "cell_type": "code",
   "execution_count": 42,
   "id": "b380db7a",
   "metadata": {},
   "outputs": [],
   "source": [
    "\n",
    "import pandas as pd\n",
    "import numpy as np\n",
    "import matplotlib.pyplot as plt\n",
    "from sklearn.model_selection import train_test_split, GridSearchCV, StratifiedKFold\n",
    "from sklearn.preprocessing import StandardScaler, OneHotEncoder\n",
    "from sklearn.compose import ColumnTransformer\n",
    "from sklearn.ensemble import RandomForestClassifier\n",
    "from sklearn.metrics import classification_report, accuracy_score\n",
    "from sklearn.linear_model import LogisticRegression\n",
    "from imblearn.over_sampling import SMOTE\n",
    "from imblearn.pipeline import Pipeline as ImbPipeline"
   ]
  },
  {
   "cell_type": "code",
   "execution_count": 43,
   "id": "48ddb68b",
   "metadata": {},
   "outputs": [],
   "source": [
    "def INFO(what):\n",
    "    print(f\">>>>>>> {what} >>>>>>>\")"
   ]
  },
  {
   "cell_type": "code",
   "execution_count": 44,
   "id": "b245cf72",
   "metadata": {},
   "outputs": [
    {
     "name": "stdout",
     "output_type": "stream",
     "text": [
      ">>>>>>> Đặt đường dẫn dataset >>>>>>>\n",
      ">>>>>>> Phân tách csv, ký tự phân tách là `;` >>>>>>>\n",
      ">>>>>>> Kiểm tra kiểu dữ liệu của mỗi cột >>>>>>>\n",
      "age                 int64\n",
      "job                object\n",
      "marital            object\n",
      "education          object\n",
      "default            object\n",
      "housing            object\n",
      "loan               object\n",
      "contact            object\n",
      "month              object\n",
      "day_of_week        object\n",
      "duration            int64\n",
      "campaign            int64\n",
      "pdays               int64\n",
      "previous            int64\n",
      "poutcome           object\n",
      "emp.var.rate      float64\n",
      "cons.price.idx    float64\n",
      "cons.conf.idx     float64\n",
      "euribor3m         float64\n",
      "nr.employed       float64\n",
      "y                  object\n",
      "dtype: object\n",
      ">>>>>>> Thống kê số lượng thuộc tính theo kiểu dữ liệu >>>>>>>\n",
      "\n",
      "Số lượng đặc trưng theo kiểu dữ liệu:\n",
      "object     11\n",
      "int64       5\n",
      "float64     5\n",
      "Name: count, dtype: int64\n",
      ">>>>>>> Kiểm tra một số dòng đầu tiên để xem dữ liệu thực tế >>>>>>>\n",
      ">>>>>>> Mẫu dữ liệu: >>>>>>>\n",
      "               age      duration      campaign         pdays      previous  \\\n",
      "count  41188.00000  41188.000000  41188.000000  41188.000000  41188.000000   \n",
      "mean      40.02406    258.285010      2.567593    962.475454      0.172963   \n",
      "std       10.42125    259.279249      2.770014    186.910907      0.494901   \n",
      "min       17.00000      0.000000      1.000000      0.000000      0.000000   \n",
      "25%       32.00000    102.000000      1.000000    999.000000      0.000000   \n",
      "50%       38.00000    180.000000      2.000000    999.000000      0.000000   \n",
      "75%       47.00000    319.000000      3.000000    999.000000      0.000000   \n",
      "max       98.00000   4918.000000     56.000000    999.000000      7.000000   \n",
      "\n",
      "       emp.var.rate  cons.price.idx  cons.conf.idx     euribor3m   nr.employed  \n",
      "count  41188.000000    41188.000000   41188.000000  41188.000000  41188.000000  \n",
      "mean       0.081886       93.575664     -40.502600      3.621291   5167.035911  \n",
      "std        1.570960        0.578840       4.628198      1.734447     72.251528  \n",
      "min       -3.400000       92.201000     -50.800000      0.634000   4963.600000  \n",
      "25%       -1.800000       93.075000     -42.700000      1.344000   5099.100000  \n",
      "50%        1.100000       93.749000     -41.800000      4.857000   5191.000000  \n",
      "75%        1.400000       93.994000     -36.400000      4.961000   5228.100000  \n",
      "max        1.400000       94.767000     -26.900000      5.045000   5228.100000  \n"
     ]
    }
   ],
   "source": [
    "INFO(\"Đặt đường dẫn dataset\")\n",
    "data_path = r\"./bank+marketing/bank-additional/bank-additional/bank-additional-full.csv\"\n",
    "\n",
    "INFO(\"Phân tách csv, ký tự phân tách là `;`\")\n",
    "df = pd.read_csv(data_path, sep=';')\n",
    "\n",
    "INFO(\"Kiểm tra kiểu dữ liệu của mỗi cột\")\n",
    "print(df.dtypes)\n",
    "\n",
    "INFO(\"Thống kê số lượng thuộc tính theo kiểu dữ liệu\")\n",
    "print(\"\\nSố lượng đặc trưng theo kiểu dữ liệu:\")\n",
    "print(df.dtypes.value_counts())\n",
    "\n",
    "INFO(\"Kiểm tra một số dòng đầu tiên để xem dữ liệu thực tế\")\n",
    "INFO(\"Mẫu dữ liệu:\")\n",
    "print(df.describe())"
   ]
  },
  {
   "cell_type": "code",
   "execution_count": 45,
   "id": "a101000c",
   "metadata": {},
   "outputs": [
    {
     "name": "stdout",
     "output_type": "stream",
     "text": [
      ">>>>>>> Thống kê các cột categorical >>>>>>>\n",
      "\n",
      "#### job ####:\n",
      "job\n",
      "admin.           10422\n",
      "blue-collar       9254\n",
      "technician        6743\n",
      "services          3969\n",
      "management        2924\n",
      "retired           1720\n",
      "entrepreneur      1456\n",
      "self-employed     1421\n",
      "housemaid         1060\n",
      "unemployed        1014\n",
      "student            875\n",
      "unknown            330\n",
      "Name: count, dtype: int64\n",
      "\n",
      "#### marital ####:\n",
      "marital\n",
      "married     24928\n",
      "single      11568\n",
      "divorced     4612\n",
      "unknown        80\n",
      "Name: count, dtype: int64\n",
      "\n",
      "#### education ####:\n",
      "education\n",
      "university.degree      12168\n",
      "high.school             9515\n",
      "basic.9y                6045\n",
      "professional.course     5243\n",
      "basic.4y                4176\n",
      "basic.6y                2292\n",
      "unknown                 1731\n",
      "illiterate                18\n",
      "Name: count, dtype: int64\n",
      "\n",
      "#### default ####:\n",
      "default\n",
      "no         32588\n",
      "unknown     8597\n",
      "yes            3\n",
      "Name: count, dtype: int64\n",
      "\n",
      "#### housing ####:\n",
      "housing\n",
      "yes        21576\n",
      "no         18622\n",
      "unknown      990\n",
      "Name: count, dtype: int64\n",
      "\n",
      "#### loan ####:\n",
      "loan\n",
      "no         33950\n",
      "yes         6248\n",
      "unknown      990\n",
      "Name: count, dtype: int64\n",
      "\n",
      "#### contact ####:\n",
      "contact\n",
      "cellular     26144\n",
      "telephone    15044\n",
      "Name: count, dtype: int64\n",
      "\n",
      "#### month ####:\n",
      "month\n",
      "may    13769\n",
      "jul     7174\n",
      "aug     6178\n",
      "jun     5318\n",
      "nov     4101\n",
      "apr     2632\n",
      "oct      718\n",
      "sep      570\n",
      "mar      546\n",
      "dec      182\n",
      "Name: count, dtype: int64\n",
      "\n",
      "#### day_of_week ####:\n",
      "day_of_week\n",
      "thu    8623\n",
      "mon    8514\n",
      "wed    8134\n",
      "tue    8090\n",
      "fri    7827\n",
      "Name: count, dtype: int64\n",
      "\n",
      "#### poutcome ####:\n",
      "poutcome\n",
      "nonexistent    35563\n",
      "failure         4252\n",
      "success         1373\n",
      "Name: count, dtype: int64\n",
      "\n",
      "#### y ####:\n",
      "y\n",
      "no     36548\n",
      "yes     4640\n",
      "Name: count, dtype: int64\n"
     ]
    }
   ],
   "source": [
    "INFO(\"Thống kê các cột categorical\")\n",
    "categorical_cols = df.select_dtypes(include='object').columns\n",
    "for col in categorical_cols:\n",
    "    print(f\"\\n#### {col} ####:\")\n",
    "    print(df[col].value_counts())"
   ]
  },
  {
   "cell_type": "code",
   "execution_count": 46,
   "id": "c2729875",
   "metadata": {},
   "outputs": [
    {
     "name": "stdout",
     "output_type": "stream",
     "text": [
      ">>>>>>> Kiểm tra biến Y xem có cân bằng không >>>>>>>\n",
      "#yes = 4640; %ratio = 11.265417111780131%\n",
      "#no = 36548; %ratio = 88.73458288821988%\n",
      ">>>>>>> Từ kết quả, cho thấy dữ liệu không cân bằng! >>>>>>>\n"
     ]
    }
   ],
   "source": [
    "INFO(\"Kiểm tra biến Y xem có cân bằng không\")\n",
    "yes_count = (df['y'] == \"yes\").sum()\n",
    "no_count = (df['y'] == \"no\").sum()\n",
    "print(f'#yes = {yes_count}; %ratio = {100*(yes_count/(no_count+yes_count))}%')\n",
    "print(f'#no = {no_count}; %ratio = {100*(no_count/(no_count+yes_count))}%')\n",
    "INFO(\"Từ kết quả, cho thấy dữ liệu không cân bằng!\")"
   ]
  },
  {
   "cell_type": "code",
   "execution_count": 47,
   "id": "0c0ccf8a",
   "metadata": {},
   "outputs": [],
   "source": [
    "# INFO(\"Mã hóa dữ liệu \")\n",
    "# label_encoders = {}\n",
    "# categorical_cols = [col for col in df.columns if df[col].dtype == 'object' and col != 'y']\n",
    "# for col in categorical_cols:\n",
    "#     print(f\"Processing `{col}` \\t\\tcolumn \\t\\t/ `{df[col].dtype}`...\")\n",
    "#     le = LabelEncoder()\n",
    "#     df[col] = le.fit_transform(df[col])\n",
    "#     label_encoders[col] = le\n",
    "# # Encode y separately\n",
    "# df['y'] = df['y'].map({'yes': 1, 'no': 0})  # Or use LabelEncoder if preferred\n",
    "# df.describe()"
   ]
  },
  {
   "cell_type": "code",
   "execution_count": 48,
   "id": "884bfaec",
   "metadata": {},
   "outputs": [
    {
     "name": "stdout",
     "output_type": "stream",
     "text": [
      ">>>>>>> Chia IN/OUT >>>>>>>\n",
      ">>>>>>> X: >>>>>>>\n",
      "               age      duration      campaign         pdays      previous  \\\n",
      "count  41188.00000  41188.000000  41188.000000  41188.000000  41188.000000   \n",
      "mean      40.02406    258.285010      2.567593    962.475454      0.172963   \n",
      "std       10.42125    259.279249      2.770014    186.910907      0.494901   \n",
      "min       17.00000      0.000000      1.000000      0.000000      0.000000   \n",
      "25%       32.00000    102.000000      1.000000    999.000000      0.000000   \n",
      "50%       38.00000    180.000000      2.000000    999.000000      0.000000   \n",
      "75%       47.00000    319.000000      3.000000    999.000000      0.000000   \n",
      "max       98.00000   4918.000000     56.000000    999.000000      7.000000   \n",
      "\n",
      "       emp.var.rate  cons.price.idx  cons.conf.idx     euribor3m   nr.employed  \n",
      "count  41188.000000    41188.000000   41188.000000  41188.000000  41188.000000  \n",
      "mean       0.081886       93.575664     -40.502600      3.621291   5167.035911  \n",
      "std        1.570960        0.578840       4.628198      1.734447     72.251528  \n",
      "min       -3.400000       92.201000     -50.800000      0.634000   4963.600000  \n",
      "25%       -1.800000       93.075000     -42.700000      1.344000   5099.100000  \n",
      "50%        1.100000       93.749000     -41.800000      4.857000   5191.000000  \n",
      "75%        1.400000       93.994000     -36.400000      4.961000   5228.100000  \n",
      "max        1.400000       94.767000     -26.900000      5.045000   5228.100000  \n",
      ">>>>>>> Y: >>>>>>>\n",
      "count     41188\n",
      "unique        2\n",
      "top          no\n",
      "freq      36548\n",
      "Name: y, dtype: object\n"
     ]
    }
   ],
   "source": [
    "INFO(\"Chia IN/OUT\")\n",
    "X, Y = df.drop(columns=['y']), df['y']\n",
    "INFO(\"X:\")\n",
    "print(X.describe())\n",
    "INFO(\"Y:\")\n",
    "print(Y.describe())"
   ]
  },
  {
   "cell_type": "code",
   "execution_count": 49,
   "id": "621ce315",
   "metadata": {},
   "outputs": [
    {
     "name": "stdout",
     "output_type": "stream",
     "text": [
      ">>>>>>> Chia tập dữ liệu với stratify để đảm bảo tỷ lệ lớp  >>>>>>>\n"
     ]
    },
    {
     "name": "stdout",
     "output_type": "stream",
     "text": [
      ">>>>>>> X_train: >>>>>>>\n",
      "       age          job   marital            education  default housing loan  \\\n",
      "8061    52   technician  divorced  professional.course  unknown     yes   no   \n",
      "25300   36   management   married    university.degree       no     yes   no   \n",
      "17667   53  blue-collar   married          high.school       no     yes  yes   \n",
      "37400   45  blue-collar    single             basic.9y       no     yes   no   \n",
      "4629    60    housemaid   married          high.school  unknown     yes   no   \n",
      "\n",
      "         contact month day_of_week  duration  campaign  pdays  previous  \\\n",
      "8061   telephone   jun         mon        56         8    999         0   \n",
      "25300   cellular   nov         tue       267         2    999         0   \n",
      "17667   cellular   jul         mon       243         2    999         0   \n",
      "37400   cellular   aug         wed       249         1      4         1   \n",
      "4629   telephone   may         wed        74         1    999         0   \n",
      "\n",
      "          poutcome  emp.var.rate  cons.price.idx  cons.conf.idx  euribor3m  \\\n",
      "8061   nonexistent           1.4          94.465          -41.8      4.865   \n",
      "25300  nonexistent          -0.1          93.200          -42.0      4.153   \n",
      "17667  nonexistent           1.4          93.918          -42.7      4.962   \n",
      "37400      success          -2.9          92.201          -31.4      0.879   \n",
      "4629   nonexistent           1.1          93.994          -36.4      4.858   \n",
      "\n",
      "       nr.employed  \n",
      "8061        5228.1  \n",
      "25300       5195.8  \n",
      "17667       5228.1  \n",
      "37400       5076.2  \n",
      "4629        5191.0  \n",
      ">>>>>>> Y_train: >>>>>>>\n",
      "8061     no\n",
      "25300    no\n",
      "17667    no\n",
      "37400    no\n",
      "4629     no\n",
      "Name: y, dtype: object\n"
     ]
    }
   ],
   "source": [
    "INFO(\"Chia tập dữ liệu với stratify để đảm bảo tỷ lệ lớp \")\n",
    "test_size=0.1 \n",
    "X_train, X_test, Y_train, Y_test = train_test_split(\n",
    "    X, \n",
    "    Y, \n",
    "    test_size=test_size, \n",
    "    random_state=42, \n",
    "    stratify=Y\n",
    ")\n",
    "INFO(\"X_train:\")\n",
    "print(X_train.head())\n",
    "INFO(\"Y_train:\")\n",
    "print(Y_train.head())"
   ]
  },
  {
   "cell_type": "code",
   "execution_count": 50,
   "id": "f8aa43c4",
   "metadata": {},
   "outputs": [
    {
     "name": "stdout",
     "output_type": "stream",
     "text": [
      ">>>>>>> Training class distribution: >>>>>>>\n",
      "y\n",
      "no     88.734522\n",
      "yes    11.265478\n",
      "Name: proportion, dtype: float64\n",
      ">>>>>>> Test class distribution: >>>>>>>\n",
      "y\n",
      "no     88.73513\n",
      "yes    11.26487\n",
      "Name: proportion, dtype: float64\n"
     ]
    }
   ],
   "source": [
    "INFO(\"Training class distribution:\")\n",
    "print(Y_train.value_counts(normalize=True) * 100)\n",
    "INFO(\"Test class distribution:\")\n",
    "print(Y_test.value_counts(normalize=True) * 100)"
   ]
  },
  {
   "cell_type": "code",
   "execution_count": 51,
   "id": "a6228c41",
   "metadata": {},
   "outputs": [
    {
     "name": "stdout",
     "output_type": "stream",
     "text": [
      ">>>>>>> Tách dữ liệu số (numberical) và dữ liệu dạng phân loại (categorical) >>>>>>>\n",
      ">>>>>>> Tách target và features của lớp dữ liệu categorical >>>>>>>\n"
     ]
    }
   ],
   "source": [
    "INFO(\"Tách dữ liệu số (numberical) và dữ liệu dạng phân loại (categorical)\")\n",
    "categorical_features = df.select_dtypes(include=['object']).columns.tolist()\n",
    "numerical_features = df.select_dtypes(include=['int64', 'float64']).columns.tolist()\n",
    "INFO(\"Tách target và features của lớp dữ liệu categorical\")\n",
    "categorical_features.remove('y')  "
   ]
  },
  {
   "cell_type": "code",
   "execution_count": 52,
   "id": "fcad4371",
   "metadata": {},
   "outputs": [
    {
     "name": "stdout",
     "output_type": "stream",
     "text": [
      ">>>>>>> Xây dựng pipeline với OneHotEncoder và SMOTE >>>>>>>\n",
      ">>>>>>> Xác định bộ tiền xử lý với OneHotenCoder cho các tính năng phân loại >>>>>>>\n",
      ">>>>>>> Tạo pipeline với tiền xử lý, smote và phân loại >>>>>>>\n"
     ]
    }
   ],
   "source": [
    "INFO(\"Xây dựng pipeline với OneHotEncoder và SMOTE\")\n",
    "INFO(\"Xác định bộ tiền xử lý với OneHotenCoder cho các tính năng phân loại\")\n",
    "scaler = StandardScaler()\n",
    "ohe = OneHotEncoder(drop='first', sparse_output=False, handle_unknown='ignore')\n",
    "preprocessor = ColumnTransformer([\n",
    "    ('num', scaler, numerical_features),\n",
    "    ('cat', ohe, categorical_features)\n",
    "])\n",
    "INFO(\"Tạo pipeline với tiền xử lý, smote và phân loại\")\n",
    "pipeline = ImbPipeline([\n",
    "    ('preprocessor', preprocessor),\n",
    "    ('smote', SMOTE(sampling_strategy=0.5, random_state=42)),\n",
    "    ('classifier', RandomForestClassifier(random_state=42))\n",
    "])"
   ]
  },
  {
   "cell_type": "code",
   "execution_count": 53,
   "id": "4ed1c8c5",
   "metadata": {},
   "outputs": [
    {
     "name": "stdout",
     "output_type": "stream",
     "text": [
      ">>>>>>> Định nghĩa hyperparameter grid cho RandomForestClassifier >>>>>>>\n",
      ">>>>>>> Thiết lập StratifiedKFold cho cross-validation >>>>>>>\n"
     ]
    }
   ],
   "source": [
    "INFO(\"Định nghĩa hyperparameter grid cho RandomForestClassifier\")\n",
    "param_grid = {\n",
    "    'classifier__n_estimators': [100, 200],  # Number of trees\n",
    "    'classifier__max_depth': [10, 20, None],  # Maximum depth of trees\n",
    "    'classifier__min_samples_split': [2, 5],  # Minimum samples to split a node\n",
    "    'classifier__min_samples_leaf': [1, 2]    # Minimum samples at a leaf node\n",
    "}\n",
    "INFO(\"Thiết lập StratifiedKFold cho cross-validation\")\n",
    "cv = StratifiedKFold(n_splits=5, shuffle=True, random_state=42)"
   ]
  },
  {
   "cell_type": "code",
   "execution_count": 54,
   "id": "32a9d853",
   "metadata": {},
   "outputs": [
    {
     "name": "stdout",
     "output_type": "stream",
     "text": [
      ">>>>>>> Tìm kiếm siêu tham số với GridSearchCV và cross-validation >>>>>>>\n",
      "Fitting 5 folds for each of 24 candidates, totalling 120 fits\n"
     ]
    },
    {
     "name": "stdout",
     "output_type": "stream",
     "text": [
      ">>>>>>> Kết quả GridSearchCV >>>>>>>\n",
      "Best parameters: {'classifier__max_depth': 20, 'classifier__min_samples_leaf': 2, 'classifier__min_samples_split': 5, 'classifier__n_estimators': 200}\n",
      "Best cross-validation F1-macro score: 0.786\n"
     ]
    }
   ],
   "source": [
    "INFO(\"Tìm kiếm hyperparameter với GridSearchCV và cross-validation\")\n",
    "grid_search = GridSearchCV(\n",
    "    pipeline,\n",
    "    param_grid=param_grid,\n",
    "    cv=cv,\n",
    "    scoring='f1_macro',  # Focus on F1-score for imbalanced data\n",
    "    n_jobs=-1,  # Use all available CPU cores\n",
    "    verbose=1\n",
    ")\n",
    "\n",
    "grid_search.fit(X_train, Y_train)\n",
    "\n",
    "INFO(\"Kết quả GridSearchCV\")\n",
    "print(f\"Best parameters: {grid_search.best_params_}\")\n",
    "print(f\"Best cross-validation F1-macro score: {grid_search.best_score_:.3f}\")"
   ]
  },
  {
   "cell_type": "code",
   "execution_count": 55,
   "id": "f7555c5a",
   "metadata": {},
   "outputs": [
    {
     "name": "stdout",
     "output_type": "stream",
     "text": [
      ">>>>>>> Đánh giá mô hình tốt nhất trên tập test >>>>>>>\n",
      "              precision    recall  f1-score   support\n",
      "\n",
      "          no       0.97      0.93      0.95      3655\n",
      "         yes       0.58      0.74      0.65       464\n",
      "\n",
      "    accuracy                           0.91      4119\n",
      "   macro avg       0.77      0.84      0.80      4119\n",
      "weighted avg       0.92      0.91      0.91      4119\n",
      "\n",
      "Accuracy: 0.9092012624423403\n",
      ">>>>>>> Hiển thị tầm quan trọng của đặc trưng >>>>>>>\n"
     ]
    },
    {
     "data": {
      "image/png": "[encoded data removed]",
      "text/plain": [
       "<Figure size 1000x600 with 1 Axes>"
      ]
     },
     "metadata": {},
     "output_type": "display_data"
    }
   ],
   "source": [
    "INFO(\"Đánh giá mô hình tốt nhất trên tập test\")\n",
    "y_pred = grid_search.predict(X_test)\n",
    "print(classification_report(Y_test, y_pred))\n",
    "print(f\"Accuracy: {accuracy_score(Y_test, y_pred)}\")\n",
    "\n",
    "INFO(\"Hiển thị tầm quan trọng của đặc trưng\")\n",
    "ohe_features = grid_search.best_estimator_.named_steps['preprocessor'].named_transformers_['cat'].get_feature_names_out(categorical_features)\n",
    "feature_names = np.concatenate([numerical_features, ohe_features])\n",
    "importances = grid_search.best_estimator_.named_steps['classifier'].feature_importances_\n",
    "\n",
    "indices = np.argsort(importances)[::-1][:10]  # Top 10 features\n",
    "plt.figure(figsize=(10, 6))\n",
    "plt.bar(range(10), importances[indices], align='center')\n",
    "plt.xticks(range(10), [feature_names[i] for i in indices], rotation=45, ha='right')\n",
    "plt.title(\"Top 10 Feature Importance (RandomForestClassifier)\")\n",
    "plt.tight_layout()\n",
    "plt.show()"
   ]
  },
  {
   "cell_type": "code",
   "execution_count": null,
   "id": "16a191a8",
   "metadata": {},
   "outputs": [],
   "source": []
  }
 ],
 "metadata": {
  "kernelspec": {
   "display_name": ".venv",
   "language": "python",
   "name": "python3"
  },
  "language_info": {
   "codemirror_mode": {
    "name": "ipython",
    "version": 3
   },
   "file_extension": ".py",
   "mimetype": "text/x-python",
   "name": "python",
   "nbconvert_exporter": "python",
   "pygments_lexer": "ipython3",
   "version": "3.12.3"
  }
 },
 "nbformat": 4,
 "nbformat_minor": 5
}
